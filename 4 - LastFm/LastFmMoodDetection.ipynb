{
 "cells": [
  {
   "cell_type": "markdown",
   "metadata": {},
   "source": [
    "# Análisis de estado de ánimo de una persona basado en escuchas de Last.FM"
   ]
  },
  {
   "cell_type": "markdown",
   "metadata": {},
   "source": [
    "En este trabajo se busca determinar el estado de ánimo de una persona, en la última semana, basándonos en sus escuchas registradas en la plataforma [Last.fm](https://www.last.fm/).\n",
    "\n",
    "Para ello, seguiremos este proceso:\n",
    "1. Obtener las canciones que ha escuchado el usuario en la última semana.\n",
    "2. Obtener las letras de las canciones de la plataforma Genius.\n",
    "3. Analizar los estados de ánimo predominantes en las letras de las canciones.\n",
    "4. Visualizar los resultados con gráficas."
   ]
  },
  {
   "cell_type": "code",
   "execution_count": 16,
   "metadata": {},
   "outputs": [],
   "source": [
    "import argparse\n",
    "import pathlib\n",
    "import requests\n",
    "\n",
    "from lastfm import lastfm_api\n",
    "from genius import genius_api\n",
    "from analysis import mood_analysis\n",
    "from visualization import emotion_visualization\n",
    "\n",
    "# To format the dictionaries.\n",
    "from pprint import pprint"
   ]
  },
  {
   "cell_type": "markdown",
   "metadata": {},
   "source": [
    "---------\n",
    "## 1. Last.FM: Obtener las canciones que ha escuchado el usuario en la última semana\n",
    "![Last.FM Logo](https://www.last.fm/static/images/logo_static.adb61955725c.png)\n",
    "\n",
    "Para obtener las escuchas, primero necesitamos proveer un usuario de Last.FM válido."
   ]
  },
  {
   "cell_type": "code",
   "execution_count": 8,
   "metadata": {},
   "outputs": [
    {
     "name": "stdout",
     "output_type": "stream",
     "text": [
      "Starkie785\n"
     ]
    }
   ],
   "source": [
    "user = input()\n",
    "print(user)"
   ]
  },
  {
   "cell_type": "code",
   "execution_count": 9,
   "metadata": {},
   "outputs": [
    {
     "name": "stdout",
     "output_type": "stream",
     "text": [
      "Retrieving information from the user 'Starkie785'\n",
      "The user 'Starkie785' is a valid user.\n"
     ]
    }
   ],
   "source": [
    "# Check if the provided user exists.\n",
    "print(f'Retrieving information from the user \\'{user}\\'')\n",
    "\n",
    "userInfo = lastfm_api.user_info(user)\n",
    "\n",
    "if 'error' in userInfo:\n",
    "    print(f\"{userInfo['message']} - {user}\")\n",
    "    exit()\n",
    "else:\n",
    "    print(f\"The user '{user}' is a valid user.\")"
   ]
  },
  {
   "cell_type": "markdown",
   "metadata": {},
   "source": [
    "A continuación, obtenemos las escuchas en la última semana, agrupadas por artista:"
   ]
  },
  {
   "cell_type": "code",
   "execution_count": 10,
   "metadata": {},
   "outputs": [
    {
     "name": "stdout",
     "output_type": "stream",
     "text": [
      "Last.FM - Reading songs listened since '2021-03-14 00:00:00' by 'Starkie785'.\n",
      "Last.FM - Read 50 out of 151 tracks.\n",
      "Last.FM - Read 100 out of 151 tracks.\n",
      "Last.FM - Read 150 out of 151 tracks.\n",
      "Last.FM - Read 151 out of 151 tracks.\n",
      "Found 151 songs by 26 different artists.\n"
     ]
    }
   ],
   "source": [
    "user_tracks = lastfm_api.user_tracks_from_lastweek(user)\n",
    "songs_by_artist = lastfm_api.group_tracks_by_artist(user_tracks)\n",
    "\n",
    "print(f\"Found {len(user_tracks)} songs by {len(songs_by_artist)} different artists.\")"
   ]
  },
  {
   "cell_type": "code",
   "execution_count": 17,
   "metadata": {},
   "outputs": [
    {
     "name": "stdout",
     "output_type": "stream",
     "text": [
      "{'name': 'Architects',\n",
      " 'songs': ['An Ordinary Extinction',\n",
      "           'Black Lungs',\n",
      "           'Meteor',\n",
      "           'Impermanence (feat. Winston McCall)',\n",
      "           'Giving Blood',\n",
      "           'Goliath (feat. Simon Neil)',\n",
      "           'Animals',\n",
      "           'Little Wonder (feat. Mike Kerr)',\n",
      "           'Do You Dream Of Armageddon?',\n",
      "           'Demi God',\n",
      "           'An Ordinary Extinction',\n",
      "           'Modern Misery',\n",
      "           'Impermanence (feat. Winston McCall)',\n",
      "           'Holy Hell',\n",
      "           'The Seventh Circle',\n",
      "           'Giving Blood',\n",
      "           'Black Lungs',\n",
      "           'Do You Dream Of Armageddon?']}\n"
     ]
    }
   ],
   "source": [
    "first_artist = list(songs_by_artist.keys())[0]\n",
    "pprint(songs_by_artist[first_artist])"
   ]
  },
  {
   "cell_type": "markdown",
   "metadata": {},
   "source": [
    "-----\n",
    "## 2. Genius - Obtener las letras de las canciones\n",
    "\n",
    "![Genius Logo](https://www.edmsauce.com/wp-content/uploads/2019/06/genius-218x150.png)\n",
    "\n",
    "Una vez hemos obtenido las escuchas, el siguiente paso es obtener las letras de las canciones. Usaremos la API de  [Genius](https://genius.com/), una base de datos de letras.\n",
    "\n",
    "Las canciones instrumentales o aquellas cuya letra no encontremos serán ignoradas."
   ]
  },
  {
   "cell_type": "code",
   "execution_count": 18,
   "metadata": {},
   "outputs": [
    {
     "name": "stdout",
     "output_type": "stream",
     "text": [
      "Genius - Searching lyrics of 'Architects'.\n",
      "Genius - Searching lyrics of 'System of a Down'.\n",
      "Genius - Searching lyrics of 'The Rolling Stones'.\n",
      "Genius - Searching lyrics of 'Kiss'.\n",
      "Genius - Searching lyrics of 'Robot Science'.\n",
      "Genius - The song 'Robot Science - Fog' was not found.\n",
      "Genius - Searching lyrics of 'Blind Guardian'.\n",
      "Genius - Searching lyrics of 'Black Sabbath'.\n",
      "Genius - Searching lyrics of 'Van Halen'.\n",
      "Genius - Searching lyrics of 'Converge'.\n",
      "Genius - Searching lyrics of 'TV on the Radio'.\n",
      "Genius - Searching lyrics of 'Rammstein'.\n",
      "Genius - Searching lyrics of 'Bon Jovi'.\n",
      "Genius - Searching lyrics of 'Perturbator'.\n",
      "Genius - The song 'Perturbator - Sexualizer' was not found.\n",
      "Genius - Searching lyrics of 'Pendulum'.\n",
      "Genius - The song 'Pendulum - Blood Sugar' was not found.\n",
      "Genius - Searching lyrics of 'Spoon'.\n",
      "Genius - Searching lyrics of 'Slayer'.\n",
      "Genius - Searching lyrics of 'My Morning Jacket'.\n",
      "Genius - Searching lyrics of 'Rise Against'.\n",
      "Genius - Searching lyrics of 'Enter Shikari'.\n",
      "Genius - The song 'Enter Shikari - The Spark' was not found.\n",
      "Genius - The song 'Enter Shikari - The Embers' was not found.\n",
      "Genius - The song 'Enter Shikari - Interlude 4' was not found.\n",
      "Genius - Searching lyrics of 'Cult of Luna'.\n",
      "Genius - The song 'Cult of Luna - A Dawn to Fear' was not found.\n",
      "Genius - Searching lyrics of 'Avatar'.\n",
      "Genius - Searching lyrics of 'Kasabian'.\n",
      "Genius - Searching lyrics of 'Deftones'.\n",
      "Genius - Searching lyrics of 'Deftones'.\n",
      "Genius - Searching lyrics of 'Hammock'.\n",
      "Genius - The song 'Hammock - The Backward Step' was not found.\n",
      "Genius - The song 'Hammock - Dust Is the Devil's Snow' was not found.\n",
      "Genius - The song 'Hammock - The World We Knew as Children' was not found.\n",
      "Genius - The song 'Hammock - Little Fly/Mouchette' was not found.\n",
      "Genius - The song 'Hammock - Something Other Than Remaining' was not found.\n",
      "Genius - The song 'Hammock - Tristia' was not found.\n",
      "Genius - Searching lyrics of 'Tool'.\n"
     ]
    }
   ],
   "source": [
    "lyrics_by_artist = genius_api.lyrics_by_artists(songs_by_artist)"
   ]
  },
  {
   "cell_type": "code",
   "execution_count": 35,
   "metadata": {},
   "outputs": [
    {
     "name": "stdout",
     "output_type": "stream",
     "text": [
      "Name: Architects\n",
      "Song: Do You Dream Of Armageddon?\n",
      "\n",
      "[Verse 1]\n",
      "No tree can grow to Heaven\n",
      "Till its roots reach down to Hell\n",
      "Will we ever learn our lesson?\n",
      "We all fall in parallel\n",
      "\n",
      "[Verse 2]\n",
      "No tree can grow to Heaven\n",
      "Till its roots reach down to Hell\n",
      "Will we ever learn our lesson?\n",
      "We all fall in parallel\n",
      "Don't bury the confession\n",
      "There's a light behind the shell\n",
      "Do you dream of Armageddon\n",
      "Just to get yourself to Heaven?\n",
      "\n",
      "[Outro]\n",
      "We all fall in parallel\n",
      "We all fall in parallel\n",
      "We all fall in parallel\n",
      "We all fall in parallеl\n",
      "We all fall in parallel\n"
     ]
    }
   ],
   "source": [
    "artist = lyrics_by_artist[0]\n",
    "print(f\"Name: {artist['name']}\")\n",
    "\n",
    "first_song = list(artist['songs'].keys())[0] \n",
    "print(f\"Song: {first_song}\\n\")\n",
    "print(artist['songs'][first_song])"
   ]
  },
  {
   "cell_type": "markdown",
   "metadata": {},
   "source": [
    "--------------\n",
    "## 3. NRCLex - Analisis de emociones de las letras\n",
    "\n",
    "Para analizar las emociones de las letras de las canciones, vamos a utilizar la librería [NCRLex](https://github.com/metalcorebear/NRCLex). Esta librería toma de base la colección de palabras en inglés [EmoLex](https://saifmohammad.com/WebPages/NRC-Emotion-Lexicon.htm), compilada por la National Research Council (NRC) de Canada.\n",
    "\n",
    "Esta colección asigna a las palabras que la componen una o más emociones del [modelo de Plutchik](https://en.wikipedia.org/wiki/Emotion_classification#Plutchik's_model). En concreto, las 8 emociones básicas: alegría, confianza, miedo, sorpresa, tristeza, aversión, ira y anticipación. Por ejemplo: `'abandoned': ['anger', 'fear', 'sadness']`\n",
    "\n",
    "\n",
    "![Rueda de las emociones de Plutchik](https://upload.wikimedia.org/wikipedia/commons/thumb/c/ce/Plutchik-wheel.svg/600px-Plutchik-wheel.svg.png \"Rueda de las emociones de Plutchik\")\n"
   ]
  },
  {
   "cell_type": "markdown",
   "metadata": {},
   "source": [
    "De cada una de las canciones, nos quedaremos **solo con las 3 emociones principales** y las devolveremos como un vector. \n",
    "\n",
    "Por ejemplo: `[0.0, 0.09230769230769231, 0.0, 0.0, 0.18461538461538463, 0.0, 0.0, 0.1076923076923077]`"
   ]
  },
  {
   "cell_type": "code",
   "execution_count": 36,
   "metadata": {},
   "outputs": [],
   "source": [
    "song_emotions_by_artist = mood_analysis.analyse_lyrics(lyrics_by_artist)"
   ]
  },
  {
   "cell_type": "code",
   "execution_count": 44,
   "metadata": {},
   "outputs": [
    {
     "name": "stdout",
     "output_type": "stream",
     "text": [
      "Name: Architects\n",
      "Song: Do You Dream Of Armageddon?\n",
      "\n",
      "['joy', 'trust', 'fear', 'surprise', 'sadness', 'disgust', 'anger', 'anticipation']\n",
      "[0.0, 0.09230769230769231, 0.0, 0.0, 0.18461538461538463, 0.0, 0.0, 0.1076923076923077]\n"
     ]
    }
   ],
   "source": [
    "artist = song_emotions_by_artist[1]\n",
    "print(f\"Name: {artist['name']}\")\n",
    "\n",
    "first_song = list(artist['songs'].keys())[0] \n",
    "print(f\"Song: {first_song}\\n\")\n",
    "\n",
    "\n",
    "print(song_emotions_by_artist[0]['categories'])\n",
    "print(artist['songs'][first_song])"
   ]
  }
 ],
 "metadata": {
  "kernelspec": {
   "display_name": "Python 3.8.6 64-bit",
   "metadata": {
    "interpreter": {
     "hash": "916dbcbb3f70747c44a77c7bcd40155683ae19c65e1c03b4aa3499c5328201f1"
    }
   },
   "name": "python3"
  },
  "language_info": {
   "codemirror_mode": {
    "name": "ipython",
    "version": 3
   },
   "file_extension": ".py",
   "mimetype": "text/x-python",
   "name": "python",
   "nbconvert_exporter": "python",
   "pygments_lexer": "ipython3",
   "version": "3.8.6"
  },
  "orig_nbformat": 2
 },
 "nbformat": 4,
 "nbformat_minor": 2
}